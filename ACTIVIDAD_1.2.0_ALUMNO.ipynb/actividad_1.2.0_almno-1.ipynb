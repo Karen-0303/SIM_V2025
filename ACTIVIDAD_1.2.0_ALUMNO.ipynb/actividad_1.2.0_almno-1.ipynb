{
 "cells": [
  {
   "cell_type": "markdown",
   "id": "bcce2c1d",
   "metadata": {},
   "source": [
    "<p align=\"center\">\n",
    "  <img src=\"https://oci02.img.iteso.mx/Identidades-De-Instancia/ITESO/Logos%20ITESO/Logo-ITESO-Principal.jpg\" alt=\"ITESO Logo\" width=\"400\">\n",
    "</p>\n",
    "\n",
    "<h1 align=\"center\">Simulación Matemática</h1>\n",
    "<h3 align=\"center\">Departamento de Matemáticas y Física</h3>\n",
    "\n",
    "- **Nombre del estudiante:** _______________________________\n",
    "\n",
    "- **Número de Matrícula:** ________________________\n",
    "\n",
    "- **Nombre del profesor:** Alejandro Noel Hernández Gutiérrez\n",
    "\n",
    "- **Fecha de entrega:** _________________________________\n",
    "\n",
    "- **Nombre del proyecto / práctica:** ACTIVIDAD_X.Y.Z\n",
    "\n",
    "- **Tema:** ______________________________________________\n"
   ]
  },
  {
   "cell_type": "markdown",
   "metadata": {},
   "source": [
    "# Tipos de Variables\n",
    "En este cuaderno aprenderás sobre los principales tipos de variables en Python, sus características, y cómo utilizarlas. Cada sección contiene ejemplos prácticos y una actividad al final para reforzar lo aprendido. ¡Comencemos!"
   ]
  },
  {
   "cell_type": "markdown",
   "id": "a90766f9",
   "metadata": {},
   "source": [
    "# Variables Cualitativas y Cuantitativas"
   ]
  },
  {
   "cell_type": "markdown",
   "id": "cc3a7486",
   "metadata": {},
   "source": [
    "## 1. Variables Cualitativas\n",
    "Las variables cualitativas describen cualidades o categorías. No se expresan en números, sino en palabras o etiquetas.\n",
    "Por ejemplo, el color de un objeto, el estado civil o el género."
   ]
  },
  {
   "cell_type": "code",
   "execution_count": 4,
   "id": "8244ae95",
   "metadata": {},
   "outputs": [
    {
     "name": "stdout",
     "output_type": "stream",
     "text": [
      "Mi color favorito es: verde\n"
     ]
    }
   ],
   "source": [
    "# Ejemplo\n",
    "colores_favoritos = {\n",
    "    \"veronica\": \"negro\",\n",
    "    \"mateo\": \"azul\",\n",
    "    \"camila\": \"rojo\",\n",
    "    \"noel\": \"verde\",\n",
    "    \"valentina\": \"rosa\",\n",
    "    \"david\": \"gris\",\n",
    "    \"sofia\": \"morado\",\n",
    "    \"martin\": \"naranja\",\n",
    "    \"emma\": \"amarillo\",\n",
    "    \"nicolas\": \"blanco\"\n",
    "}\n",
    "print(f'Mi color favorito es: {colores_favoritos[\"noel\"]}')"
   ]
  },
  {
   "cell_type": "code",
   "execution_count": 5,
   "id": "ecd97326",
   "metadata": {},
   "outputs": [
    {
     "name": "stdout",
     "output_type": "stream",
     "text": [
      "El estado civil es: soltero\n"
     ]
    }
   ],
   "source": [
    "# Ejemplo\n",
    "estado_civil = {1: \"soltero\", 2: \"casado\", 3: \"divorciado\", 4: \"viudo\", 5: \"en pareja\"}\n",
    "print(f'El estado civil es: {estado_civil[1]}')"
   ]
  },
  {
   "cell_type": "markdown",
   "id": "9da2fa17",
   "metadata": {},
   "source": [
    "### Conceptos clave\n",
    "- `Variable cualitativa`: también llamada categórica, representa cualidades o atributos no numéricos (por ejemplo: color, tipo, preferencia, categoría).\n",
    "\n",
    "- `Clase`: Plantilla o estructura general de un objeto en la que se abstraen sus cualidades y características, así como sus funciones. \n",
    "\n",
    "- `Instancia`: es un objeto creado a partir de una clase; cada instancia puede tener diferentes valores de atributos.\n",
    "\n",
    "- `Método`: Función definida dentro de una clase que actúa sobre sus datos"
   ]
  },
  {
   "cell_type": "code",
   "execution_count": 1,
   "id": "cf67b130",
   "metadata": {},
   "outputs": [],
   "source": [
    "# Definimos una clase Cliente para representar a cada individuo en la simulación\n",
    "class Persona:\n",
    "    def __init__(self, nombre, preferencia_color):\n",
    "        self.nombre = nombre\n",
    "        self.preferencia_color = preferencia_color  # Variable cualitativa\n",
    "\n",
    "    def describir(self):\n",
    "        print(f\"{self.nombre} prefiere el color {self.preferencia_color}.\")"
   ]
  },
  {
   "cell_type": "code",
   "execution_count": 2,
   "id": "ad49dc4b",
   "metadata": {},
   "outputs": [],
   "source": [
    "# Creamos instancias de la clase con diferentes valores cualitativos\n",
    "cliente1 = Persona(nombre=\"Ana\", preferencia_color=\"rojo\")\n",
    "cliente2 = Persona(nombre=\"Luis\", preferencia_color=\"azul\")\n",
    "cliente3 = Persona(nombre=\"Sofía\", preferencia_color=\"verde\")"
   ]
  },
  {
   "cell_type": "code",
   "execution_count": 3,
   "id": "eafba2b1",
   "metadata": {},
   "outputs": [
    {
     "name": "stdout",
     "output_type": "stream",
     "text": [
      "Sofía prefiere el color verde.\n"
     ]
    }
   ],
   "source": [
    "# Usamos los métodos para ver el comportamiento\n",
    "cliente3.describir()"
   ]
  },
  {
   "cell_type": "markdown",
   "id": "f5b0aa64",
   "metadata": {},
   "source": [
    "### Live Code example:\n",
    "- Cualidades de un animal\n",
    "- Acciones de un animal\n",
    "- Definir un animal"
   ]
  },
  {
   "cell_type": "code",
   "execution_count": 10,
   "id": "29fad09e",
   "metadata": {},
   "outputs": [],
   "source": [
    "'''\n",
    "Cualidades de un animal\n",
    "Peso\n",
    "Altura\n",
    "Fuerza_de_mordida\n",
    "Color\n",
    "Habitat\n",
    "Velocidad\n",
    "\n",
    "\n",
    "Acciones de un animal\n",
    "Comer\n",
    "Caminar\n",
    "Dormir\n",
    "'''\n",
    "class Animal:\n",
    "    def __init__(self, Nombre_comun, Peso, Altura, Fuerza_de_mordida,Color, Habitat, Velocidad, Sonido):\n",
    "        self.Nombre_comun = Nombre_comun\n",
    "        self.Peso = Peso\n",
    "        self.Altura  = Altura\n",
    "        self.Fuerza_de_mordida  = Fuerza_de_mordida\n",
    "        self.Color = Color\n",
    "        self.Habitat = Habitat\n",
    "        self.Velocidad = Velocidad\n",
    "        self.Sonido = Sonido\n",
    "\n",
    "\n",
    "    def Comunicarse(self):\n",
    "        print(f\"{self.Nombre_comun} hace {self.Sonido}. Pesa {self.Peso}kg\")"
   ]
  },
  {
   "cell_type": "code",
   "execution_count": 11,
   "id": "23807601",
   "metadata": {},
   "outputs": [
    {
     "name": "stdout",
     "output_type": "stream",
     "text": [
      "Vaca hace Muuu. Pesa 500kg\n"
     ]
    }
   ],
   "source": [
    "vaca=Animal (\"Vaca\", 500, 1.5, 200, \"Blanco y negro\" , \"Granja\", 30, \"Muuu\")\n",
    "vaca.Comunicarse()"
   ]
  },
  {
   "cell_type": "markdown",
   "id": "7178d4c7",
   "metadata": {},
   "source": [
    "### Actividad: Variables Cualitativas\n",
    "Declara tres variables cualitativas: `comida_favorita`, `pais_natal`, y `hobby`. Asigna valores a cada una y luego imprime una frase que las combine."
   ]
  },
  {
   "cell_type": "code",
   "execution_count": null,
   "id": "04cd0f4b",
   "metadata": {},
   "outputs": [],
   "source": [
    "comida_fav = \"Sushi\"\n",
    "pais_natal = \"Mexico\"\n",
    "hobby = \"ver peliculas\""
   ]
  },
  {
   "cell_type": "code",
   "execution_count": 17,
   "id": "9aa92fbe",
   "metadata": {},
   "outputs": [
    {
     "name": "stdout",
     "output_type": "stream",
     "text": [
      "Soy de Mexico, mi comida favorita es Sushi y mi hobby es ver peliculas.\n"
     ]
    }
   ],
   "source": [
    "print(f\"Soy de {pais_natal}, mi comida favorita es {comida_fav} y mi hobby es {hobby}.\")"
   ]
  },
  {
   "cell_type": "markdown",
   "id": "17db67c9",
   "metadata": {},
   "source": [
    "## 2. Variables Cuantitativas\n",
    "Las variables cuantitativas representan cantidades y se expresan en números. Pueden ser discretas (valores enteros) o continuas (valores decimales)."
   ]
  },
  {
   "cell_type": "code",
   "execution_count": 12,
   "id": "f52fc357",
   "metadata": {},
   "outputs": [
    {
     "name": "stdout",
     "output_type": "stream",
     "text": [
      "Tengo 25 años\n"
     ]
    }
   ],
   "source": [
    "# Ejemplo\n",
    "edad = 25\n",
    "print(f'Tengo {edad} años')"
   ]
  },
  {
   "cell_type": "code",
   "execution_count": 13,
   "id": "02abdc48",
   "metadata": {},
   "outputs": [
    {
     "name": "stdout",
     "output_type": "stream",
     "text": [
      "Mi altura es: 1.75 metros\n"
     ]
    }
   ],
   "source": [
    "# Ejemplo\n",
    "altura = 1.75\n",
    "print(f'Mi altura es: {altura} metros')"
   ]
  },
  {
   "cell_type": "code",
   "execution_count": 14,
   "id": "ee73bb7a",
   "metadata": {},
   "outputs": [
    {
     "name": "stdout",
     "output_type": "stream",
     "text": [
      "Mi peso es: 70.5 kilogramos\n"
     ]
    }
   ],
   "source": [
    "# Ejemplo\n",
    "peso = 70.5\n",
    "print(f'Mi peso es: {peso} kilogramos')"
   ]
  },
  {
   "cell_type": "markdown",
   "id": "0bc043d2",
   "metadata": {},
   "source": [
    "### Actividad: Indice de masa corporal\n",
    "- Declara una clase persona con dos atributos cuantitativos: `peso` y `estatura`. \n",
    "- Dentro de la clase, crea una función `obtener_imc` para calcular el indice de masa corporal de la persona, utiliza `round(numero, ndigits)` para dejarlo con 2 digitos. \n",
    "\n"
   ]
  },
  {
   "cell_type": "code",
   "execution_count": 20,
   "id": "7d8fde54",
   "metadata": {},
   "outputs": [],
   "source": [
    "class Persona:\n",
    "    def __init__(self, peso, estatura):\n",
    "        self.peso = peso\n",
    "        self.estatura = estatura\n",
    "\n",
    "    def obtener_imc(self):\n",
    "        imc= self.peso/(self.estatura**2)\n",
    "        return round(imc, 2)\n",
    "\n"
   ]
  },
  {
   "cell_type": "code",
   "execution_count": 21,
   "id": "b21c0ffb",
   "metadata": {},
   "outputs": [
    {
     "name": "stdout",
     "output_type": "stream",
     "text": [
      "El indice de masa corporal es 23.02\n"
     ]
    }
   ],
   "source": [
    "persona1 = Persona(peso=70.5, estatura=1.75)\n",
    "\n",
    "print(f\"El indice de masa corporal es {persona1.obtener_imc()}\")"
   ]
  },
  {
   "cell_type": "markdown",
   "id": "19540268",
   "metadata": {},
   "source": [
    "- Ahora crea 3 instancias de la clase Persona y define su peso y altura. \n",
    "- Despues usa el método `obtener_imc` e imprime su indice de masa corporal."
   ]
  },
  {
   "cell_type": "code",
   "execution_count": null,
   "id": "20dc870d",
   "metadata": {},
   "outputs": [],
   "source": [
    "class Persona:\n",
    "    def __init__(self, peso, estatura):\n",
    "        self.peso = peso\n",
    "        self.estatura = estatura\n",
    "\n",
    "    def obtener_imc(self):\n",
    "        imc= self.peso/(self.estatura**2)\n",
    "        return round(imc, 2)"
   ]
  },
  {
   "cell_type": "code",
   "execution_count": 24,
   "id": "a0d3c331",
   "metadata": {},
   "outputs": [],
   "source": [
    "Persona1=Persona(70.5, 1.75)\n",
    "Persona2=Persona(80.5, 1.65)\n",
    "Persona3=Persona(80.0, 1.85)"
   ]
  },
  {
   "cell_type": "code",
   "execution_count": 25,
   "id": "8ac4e8c8",
   "metadata": {},
   "outputs": [
    {
     "name": "stdout",
     "output_type": "stream",
     "text": [
      "IMC Persona1: 23.02\n",
      "IMC Persona2: 29.57\n",
      "IMC Persona3: 23.37\n"
     ]
    }
   ],
   "source": [
    "print(\"IMC Persona1:\", Persona1.obtener_imc())\n",
    "print(\"IMC Persona2:\", Persona2.obtener_imc())\n",
    "print(\"IMC Persona3:\", Persona3.obtener_imc())"
   ]
  },
  {
   "cell_type": "markdown",
   "metadata": {},
   "source": [
    "# Operadores Aritméticos\n",
    "Los operadores aritméticos se utilizan para realizar operaciones matemáticas básicas como suma, resta, multiplicación y división.\n",
    "\n",
    "### Operadores comunes:\n",
    "- `+` Suma\n",
    "- `-` Resta\n",
    "- `*` Multiplicación\n",
    "- `/` División\n",
    "- `%` Módulo\n",
    "- `**` Exponenciación\n",
    "- `//` División entera"
   ]
  },
  {
   "cell_type": "code",
   "execution_count": null,
   "metadata": {},
   "outputs": [],
   "source": [
    "# Ejemplo: Operadores aritméticos\n",
    "a = 10\n",
    "b = 3\n",
    "print(f'Suma: {a} + {b} =  {a + b}')\n",
    "print(f'Resta: {a} - {b} = {a - b}')\n",
    "print(f'Multiplicación: {a} * {b} = {a * b}')\n",
    "print(f'División: {a} / {b} = {a / b}')\n",
    "print(f'Exponenciación: {a} a la {b} = {a ** b}')"
   ]
  },
  {
   "cell_type": "markdown",
   "id": "621f23ed",
   "metadata": {},
   "source": [
    "### División entera en Python\n",
    "\n",
    "En Python, la **división entera** se realiza con el operador `//`.\n",
    "\n",
    "Este operador devuelve el **cociente entero** de la división, **descartando los decimales**.\n",
    "\n",
    "```python\n",
    "resultado = dividendo // divisor\n",
    "\n"
   ]
  },
  {
   "cell_type": "markdown",
   "id": "f0445d69",
   "metadata": {},
   "source": [
    "### Live code example.\n",
    "- Obtener división entera entre un numero a y un numero b"
   ]
  },
  {
   "cell_type": "code",
   "execution_count": 27,
   "id": "fb16ea21",
   "metadata": {},
   "outputs": [
    {
     "name": "stdout",
     "output_type": "stream",
     "text": [
      "Modulo de una Division entera: 20 modulo 2 = 0\n"
     ]
    }
   ],
   "source": [
    "a = 20\n",
    "b = 2\n",
    "print(f\"Modulo de una Division entera: {a} modulo {b} = {a%b}\")"
   ]
  },
  {
   "cell_type": "markdown",
   "id": "16c3462f",
   "metadata": {},
   "source": [
    "### ¿Qué es el residuo o módulo?\n",
    "\n",
    "El **residuo** es el valor restante después de dividir un número entre otro.  \n",
    "Se representa con el operador `%` en muchos lenguajes de programación.\n",
    "\n",
    "### Live code example.\n",
    "- Obtener residuo entre 16 y 3.\n"
   ]
  },
  {
   "cell_type": "code",
   "execution_count": 28,
   "id": "882c8583",
   "metadata": {},
   "outputs": [],
   "source": [
    "a=16\n",
    "b=3\n",
    "residuo= a%b"
   ]
  },
  {
   "cell_type": "code",
   "execution_count": 29,
   "id": "e5243df3",
   "metadata": {},
   "outputs": [
    {
     "name": "stdout",
     "output_type": "stream",
     "text": [
      "el residuo es 16 dividido entre 3 es: 1\n"
     ]
    }
   ],
   "source": [
    "print(f\"el residuo es {a} dividido entre {b} es: {residuo}\")"
   ]
  },
  {
   "cell_type": "markdown",
   "metadata": {},
   "source": [
    "### Actividad: Operadores Aritméticos\n",
    "Dado `x = 15` y `y = 4`, realiza las siguientes operaciones:\n",
    "1. Calcula el residuo de `x` dividido entre `y`. Guarda el resultado en una variable llamada `residuo` e imprime."
   ]
  },
  {
   "cell_type": "code",
   "execution_count": null,
   "metadata": {},
   "outputs": [],
   "source": []
  },
  {
   "cell_type": "markdown",
   "id": "ba5f131f",
   "metadata": {},
   "source": [
    "2. Calcula `x` elevado a la potencia de `y`. Guarda el resultado en una variable llamada `potencia` e imprime.\n"
   ]
  },
  {
   "cell_type": "code",
   "execution_count": null,
   "id": "d640d8a9",
   "metadata": {},
   "outputs": [],
   "source": []
  },
  {
   "cell_type": "markdown",
   "id": "fa6a51d3",
   "metadata": {},
   "source": [
    "3. Calcula la división entera de `x` entre `y`. Guarda el resultado en una variable llamada `division_entera` e imprime."
   ]
  },
  {
   "cell_type": "code",
   "execution_count": null,
   "id": "bc85ee17",
   "metadata": {},
   "outputs": [],
   "source": []
  },
  {
   "cell_type": "markdown",
   "metadata": {},
   "source": [
    "## 2. Operadores de Comparación\n",
    "Los operadores de comparación se utilizan para comparar valores y devuelven un valor booleano (`True` o `False`).\n",
    "\n",
    "### Operadores comunes:\n",
    "- `==` Igual a\n",
    "- `!=` Diferente de\n",
    "- `>` Mayor que\n",
    "- `<` Menor que\n",
    "- `>=` Mayor o igual que\n",
    "- `<=` Menor o igual que"
   ]
  },
  {
   "cell_type": "code",
   "execution_count": null,
   "metadata": {},
   "outputs": [],
   "source": [
    "# Ejemplo: Operadores de comparación\n",
    "a = 10\n",
    "b = 20\n",
    "print(f'¿a es igual a b? {a == b}')\n",
    "print(f'¿a es diferente de b? {a != b}')\n",
    "print(f'¿a es mayor que b? {a > b}')\n",
    "print(f'¿a es menor o igual que b? {a <= b}')"
   ]
  },
  {
   "cell_type": "markdown",
   "id": "c55cb6a7",
   "metadata": {},
   "source": [
    "### Live code example\n",
    "- Ejemplificar algunos operadores con if else\n"
   ]
  },
  {
   "cell_type": "markdown",
   "id": "b38cf791",
   "metadata": {},
   "source": []
  },
  {
   "cell_type": "markdown",
   "metadata": {},
   "source": [
    "### Actividad: Operadores de Comparación\n",
    "Dado `a = 50` y `b = 25`, responde con código e imprime la respuesta:\n",
    "1. ¿`a` es mayor que `b`?\n"
   ]
  },
  {
   "cell_type": "code",
   "execution_count": 30,
   "metadata": {},
   "outputs": [
    {
     "name": "stdout",
     "output_type": "stream",
     "text": [
      "¿a es mayor que b? True\n"
     ]
    }
   ],
   "source": [
    "a=50\n",
    "b=25\n",
    "\n",
    "print(\"¿a es mayor que b?\", a > b)"
   ]
  },
  {
   "cell_type": "markdown",
   "id": "7440990e",
   "metadata": {},
   "source": [
    "Dado `a = 50` y `b = 75`, responde con código e imprime la respuesta:\n",
    "\n",
    "2. ¿`a` es igual a `b`?\n",
    "\n"
   ]
  },
  {
   "cell_type": "code",
   "execution_count": null,
   "id": "ab5ef5fd",
   "metadata": {},
   "outputs": [],
   "source": []
  },
  {
   "cell_type": "markdown",
   "id": "a6fabb2a",
   "metadata": {},
   "source": [
    "Dado `a = -300` y `b = 25`, responde con código e imprime la respuesta:\n",
    "\n",
    "3. ¿`b` es menor o igual que `a`?"
   ]
  },
  {
   "cell_type": "code",
   "execution_count": null,
   "id": "4f6a914e",
   "metadata": {},
   "outputs": [],
   "source": []
  }
 ],
 "metadata": {
  "kernelspec": {
   "display_name": ".venv",
   "language": "python",
   "name": "python3"
  },
  "language_info": {
   "codemirror_mode": {
    "name": "ipython",
    "version": 3
   },
   "file_extension": ".py",
   "mimetype": "text/x-python",
   "name": "python",
   "nbconvert_exporter": "python",
   "pygments_lexer": "ipython3",
   "version": "3.13.3"
  }
 },
 "nbformat": 4,
 "nbformat_minor": 5
}
